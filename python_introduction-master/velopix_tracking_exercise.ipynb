{
  "nbformat": 4,
  "nbformat_minor": 0,
  "metadata": {
    "kernelspec": {
      "display_name": "Python 3",
      "language": "python",
      "name": "python3"
    },
    "language_info": {
      "codemirror_mode": {
        "name": "ipython",
        "version": 3
      },
      "file_extension": ".py",
      "mimetype": "text/x-python",
      "name": "python",
      "nbconvert_exporter": "python",
      "pygments_lexer": "ipython3",
      "version": "3.7.6"
    },
    "colab": {
      "name": "velopix_tracking_exercise.ipynb",
      "provenance": []
    }
  },
  "cells": [
    {
      "cell_type": "markdown",
      "metadata": {
        "id": "oBulwoRnSm3n",
        "colab_type": "text"
      },
      "source": [
        "Track reconstruction made easy\n",
        "==============================\n",
        "\n",
        "This is a pet project to do track reconstruction,\n",
        "based on real data coming from the LHCb detector at CERN.\n",
        "\n",
        "Think you can make it better? Go ahead and try!"
      ]
    },
    {
      "cell_type": "markdown",
      "metadata": {
        "id": "01uu8AArSm3q",
        "colab_type": "text"
      },
      "source": [
        "What is track reconstruction?\n",
        "-----------------------------\n",
        "\n",
        "At the LHCb detector, millions of particles collide at speeds\n",
        "close to the speed of light, leaving traces (hits) on the sensors\n",
        "placed in their way.\n",
        "\n",
        "The collisions that happen at the same time are packed\n",
        "into an *event*, and sent to one of our servers,\n",
        "that must reconstruct the tracks that formed each particle\n",
        "in real time.\n",
        "\n",
        "This project contains events in json format. These events are\n",
        "then processed by some reconstruction algorithm, and finally\n",
        "the results are validated. That is, the particles found by\n",
        "the solver are matched against the real particles that came out of\n",
        "the collisions in the event.\n",
        "\n",
        "![velopix reconstruction example](reco_example.png \"velopix reconstruction example\")"
      ]
    },
    {
      "cell_type": "markdown",
      "metadata": {
        "id": "givwoPkASm3r",
        "colab_type": "text"
      },
      "source": [
        "Diving into details\n",
        "-------------------\n",
        "\n",
        "Input files are specified in json. An *event model* to parse them\n",
        "is shipped with this project."
      ]
    },
    {
      "cell_type": "code",
      "metadata": {
        "id": "H9d2NaX4Sm3s",
        "colab_type": "code",
        "colab": {}
      },
      "source": [
        "import event_model as em\n",
        "import json\n",
        "f = open(\"velojson/1.json\")\n",
        "json_data = json.loads(f.read())\n",
        "event = em.event(json_data)\n",
        "f.close()"
      ],
      "execution_count": 0,
      "outputs": []
    },
    {
      "cell_type": "markdown",
      "metadata": {
        "id": "3PrpqUbrSm3w",
        "colab_type": "text"
      },
      "source": [
        "The LHCb Velopix detector has 52 modules. Spread across the modules,\n",
        "we should have many hits, depending on the event we are on."
      ]
    },
    {
      "cell_type": "code",
      "metadata": {
        "id": "Cky2JYgBSm3x",
        "colab_type": "code",
        "colab": {
          "base_uri": "https://localhost:8080/",
          "height": 51
        },
        "outputId": "e85042c5-db0c-4cac-a184-2a2fc298ec3f"
      },
      "source": [
        "print(len(event.modules))\n",
        "print(len(event.hits))"
      ],
      "execution_count": 7,
      "outputs": [
        {
          "output_type": "stream",
          "text": [
            "52\n",
            "3366\n"
          ],
          "name": "stdout"
        }
      ]
    },
    {
      "cell_type": "markdown",
      "metadata": {
        "id": "U0YbyIqkSm32",
        "colab_type": "text"
      },
      "source": [
        "Hits are composed of an ID, and {x, y, z} coordinates."
      ]
    },
    {
      "cell_type": "code",
      "metadata": {
        "id": "J4NZ3h-ESm33",
        "colab_type": "code",
        "colab": {
          "base_uri": "https://localhost:8080/",
          "height": 34
        },
        "outputId": "27e1314b-93a1-4b76-fa7b-c46ec0da46fa"
      },
      "source": [
        "print(event.hits[0])"
      ],
      "execution_count": 8,
      "outputs": [
        {
          "output_type": "stream",
          "text": [
            "#0 id 44897 module 0 {-9.821713, 29.362608, -275.531006}\n"
          ],
          "name": "stdout"
        }
      ]
    },
    {
      "cell_type": "markdown",
      "metadata": {
        "id": "Cl8GOP6fSm36",
        "colab_type": "text"
      },
      "source": [
        "Modules are placed at some z in the detector. Each module\n",
        "may have as many hits as particles crossed by it, plus some noise to\n",
        "make things interesting."
      ]
    },
    {
      "cell_type": "code",
      "metadata": {
        "id": "jO-ADKCgSm37",
        "colab_type": "code",
        "colab": {}
      },
      "source": [
        "print(event.modules[0])"
      ],
      "execution_count": 0,
      "outputs": []
    },
    {
      "cell_type": "markdown",
      "metadata": {
        "id": "clzeY6CTSm3_",
        "colab_type": "text"
      },
      "source": [
        "Visually, the data looks like this:"
      ]
    },
    {
      "cell_type": "code",
      "metadata": {
        "id": "EWT-5WbiSm4A",
        "colab_type": "code",
        "colab": {}
      },
      "source": [
        "from visual.base import print_event_2d\n",
        "%matplotlib inline\n",
        "\n",
        "print_event_2d(event)\n",
        "print_event_2d(event, y=1)"
      ],
      "execution_count": 0,
      "outputs": []
    },
    {
      "cell_type": "markdown",
      "metadata": {
        "id": "sUcs_5E6Sm4E",
        "colab_type": "text"
      },
      "source": [
        "A tracking algorithm solution\n",
        "----------------\n",
        "\n",
        "A simplistic implementation runs through all sensors sequentially,\n",
        "finding tracks by matching hits in a straight line."
      ]
    },
    {
      "cell_type": "code",
      "metadata": {
        "id": "DUxiDFYmSm4G",
        "colab_type": "code",
        "colab": {}
      },
      "source": [
        "from search_by_triplet_trie import search_by_triplet_trie\n",
        "tracks = search_by_triplet_trie().solve(event)\n",
        "\n",
        "print(len(tracks))\n",
        "print(tracks[0])"
      ],
      "execution_count": 0,
      "outputs": []
    },
    {
      "cell_type": "markdown",
      "metadata": {
        "id": "etjDXIlASm4J",
        "colab_type": "text"
      },
      "source": [
        "Finally, we should validate these results, and we'll look\n",
        "at three things:\n",
        "    \n",
        "*   Reconstruction Efficiency: The fraction of real particles we have reconstructed.\n",
        "    > \\# correctly reconstructed / \\# real tracks\n",
        "\n",
        "*   Clone Tracks: Tracks that are similar to other correctly reconstructed tracks.\n",
        "    > \\# clone tracks / \\# correctly reconstructed\n",
        "\n",
        "*   Fake Tracks: Tracks that are incorrect, either created by noise or by incorrectly reconstructing a track.\n",
        "    > \\# incorrectly reconstructed / \\# all reconstructed\n",
        "\n",
        "We will get the validation detailed for different kinds of particles."
      ]
    },
    {
      "cell_type": "code",
      "metadata": {
        "id": "vctvLdATSm4K",
        "colab_type": "code",
        "colab": {}
      },
      "source": [
        "import validator_lite as vl\n",
        "vl.validate_print([json_data], [tracks])"
      ],
      "execution_count": 0,
      "outputs": []
    },
    {
      "cell_type": "markdown",
      "metadata": {
        "id": "6JiE8sa3Sm4N",
        "colab_type": "text"
      },
      "source": [
        "And visually, we can see what our solution looks like:"
      ]
    },
    {
      "cell_type": "code",
      "metadata": {
        "id": "i4PvSrHZSoNZ",
        "colab_type": "code",
        "colab": {
          "base_uri": "https://localhost:8080/",
          "height": 578
        },
        "outputId": "2ef804ed-04d7-4b97-a357-ce3075e2cc07"
      },
      "source": [
        "dir(event.modules[0])"
      ],
      "execution_count": 20,
      "outputs": [
        {
          "output_type": "execute_result",
          "data": {
            "text/plain": [
              "['__class__',\n",
              " '__delattr__',\n",
              " '__dict__',\n",
              " '__dir__',\n",
              " '__doc__',\n",
              " '__eq__',\n",
              " '__format__',\n",
              " '__ge__',\n",
              " '__getattribute__',\n",
              " '__gt__',\n",
              " '__hash__',\n",
              " '__init__',\n",
              " '__init_subclass__',\n",
              " '__iter__',\n",
              " '__le__',\n",
              " '__lt__',\n",
              " '__module__',\n",
              " '__ne__',\n",
              " '__new__',\n",
              " '__reduce__',\n",
              " '__reduce_ex__',\n",
              " '__repr__',\n",
              " '__setattr__',\n",
              " '__sizeof__',\n",
              " '__str__',\n",
              " '__subclasshook__',\n",
              " '__weakref__',\n",
              " '_module__global_hits',\n",
              " 'hit_end_index',\n",
              " 'hit_start_index',\n",
              " 'hits',\n",
              " 'module_number',\n",
              " 'z']"
            ]
          },
          "metadata": {
            "tags": []
          },
          "execution_count": 20
        }
      ]
    },
    {
      "cell_type": "code",
      "metadata": {
        "id": "TxQ3ltnnSm4O",
        "colab_type": "code",
        "colab": {}
      },
      "source": [
        "print_event_2d(event, tracks=tracks)\n",
        "print_event_2d(event, tracks=tracks, y=1)"
      ],
      "execution_count": 0,
      "outputs": []
    },
    {
      "cell_type": "markdown",
      "metadata": {
        "collapsed": true,
        "id": "KWtvo9P7Sm4R",
        "colab_type": "text"
      },
      "source": [
        "Data analysis exercises\n",
        "---------------\n",
        "\n",
        "We will just try to understand how the data of the problem looks like. Produce a plot with:\n",
        "\n",
        "* X axis: Module number\n",
        "* Y axis: Number of hits in the module\n",
        "\n",
        "Usually, algorithms start looking at data from the last module, because the number of hits is lower there. Is this true?"
      ]
    },
    {
      "cell_type": "code",
      "metadata": {
        "id": "iizOCAn_Sm4S",
        "colab_type": "code",
        "colab": {
          "base_uri": "https://localhost:8080/",
          "height": 295
        },
        "outputId": "a4348b7c-174f-4479-b376-51190c608085"
      },
      "source": [
        "import numpy as np\n",
        "import matplotlib.pyplot as plt\n",
        "numMod = len(event.modules)\n",
        "x = np.arange (0, numMod, 1)\n",
        "y = []\n",
        "for i in range(numMod):\n",
        "  y.append(len(event.modules[i].hits()))\n",
        "\n",
        "plt.figure()\n",
        "plt.plot(x,y,'c')\n",
        "plt.xlabel(\"Module Number\")\n",
        "plt.ylabel(\"Hits on Module\")\n",
        "plt.title(\"Modules to hits\")\n",
        "plt.show()"
      ],
      "execution_count": 23,
      "outputs": [
        {
          "output_type": "display_data",
          "data": {
            "image/png": "[encoded data removed]",
            "text/plain": [
              "<Figure size 432x288 with 1 Axes>"
            ]
          },
          "metadata": {
            "tags": []
          }
        }
      ]
    },
    {
      "cell_type": "markdown",
      "metadata": {
        "id": "f6bnB74LSm4W",
        "colab_type": "text"
      },
      "source": [
        "The technique used in the above solution, named \"search_by_triplet_trie\", finds triplets of hits in neighbouring modules on the same side. Odd modules are placed on the left, whereas even modules are placed on the right.\n",
        "\n",
        "* Fetch all hits in a numpy array. Use a selector to iterate over the hits on modules on either side.\n",
        "* Plot the number of pairs of hits in every consecutive pair of modules on the same side.\n",
        "* Plot the number of triplets of hits in every consecutive triplet of modules on the same side."
      ]
    },
    {
      "cell_type": "code",
      "metadata": {
        "id": "l6woZV7ZSm4X",
        "colab_type": "code",
        "colab": {
          "base_uri": "https://localhost:8080/",
          "height": 564
        },
        "outputId": "03def3d1-350d-4f90-9a26-04d4dad9cf80"
      },
      "source": [
        "Hits = []\n",
        "for  i in range(numMod):\n",
        "  Hits.append(event.modules[i].hits())\n",
        "Hits = np.array(Hits)\n",
        "\n",
        "Module=[]\n",
        "for i in range(numMod):\n",
        "  Module.append(event.modules[i])\n",
        "Module = np.array(Module)\n",
        "\n",
        "mskEven = [bool(i % 2) for i in range(numMod)]\n",
        "mskOdd = [bool ((i+1)%2) for i in range(numMod)]\n",
        "\n",
        "hmod= int((numMod/2))\n",
        "\n",
        "even = Module[mskEven]\n",
        "odd = Module[mskOdd]\n",
        "\n",
        "\n",
        "a = []\n",
        "b = np.arange(0, hmod-1, 1)\n",
        "for i in range(hmod-1):\n",
        "  a.append(len(even[i].hits()) * len(even[i+1].hits()))\n",
        "\n",
        "plt.figure()\n",
        "plt.show()\n",
        "plt.plot(b,a,'y')\n",
        "\n",
        "tmod = int(numMod/3)\n",
        "\n",
        "c = []\n",
        "d = np.arange(0, tmod-2, 1)\n",
        "for i in range(tmod-2):\n",
        "  c.append(len(even[i].hits())*len(even[i+1].hits())*len(even[i+2].hits()))\n",
        "\n",
        "plt.figure()\n",
        "plt.show()\n",
        "plt.plot(d, c, 'm')\n"
      ],
      "execution_count": 54,
      "outputs": [
        {
          "output_type": "display_data",
          "data": {
            "text/plain": [
              "<Figure size 432x288 with 0 Axes>"
            ]
          },
          "metadata": {
            "tags": []
          }
        },
        {
          "output_type": "display_data",
          "data": {
            "image/png": "[encoded data removed]",
            "text/plain": [
              "<Figure size 432x288 with 1 Axes>"
            ]
          },
          "metadata": {
            "tags": []
          }
        },
        {
          "output_type": "display_data",
          "data": {
            "text/plain": [
              "<Figure size 432x288 with 0 Axes>"
            ]
          },
          "metadata": {
            "tags": []
          }
        },
        {
          "output_type": "execute_result",
          "data": {
            "text/plain": [
              "[<matplotlib.lines.Line2D at 0x7efe8a5c44e0>]"
            ]
          },
          "metadata": {
            "tags": []
          },
          "execution_count": 54
        },
        {
          "output_type": "display_data",
          "data": {
            "image/png": "[encoded data removed]",
            "text/plain": [
              "<Figure size 432x288 with 1 Axes>"
            ]
          },
          "metadata": {
            "tags": []
          }
        }
      ]
    },
    {
      "cell_type": "markdown",
      "metadata": {
        "id": "J8svtMmKSm4a",
        "colab_type": "text"
      },
      "source": [
        "\"search_by_triplet_trie\" obtains many tracks, aka collections of signals left in the detector by particles. We would like to know the goodness of these tracks:\n",
        "\n",
        "* Iterate over the tracks from the solution. Print for every track hits its X, Y and Z coordinates.\n",
        "* Create a means_squared_error method that gets a track as an input and calculates the MSE (https://en.wikipedia.org/wiki/Mean_squared_error) of a track.\n",
        "* The above algorithm gets a high fake rate, and this is most likely due to tracks with a high MSE. Make a track filter to remove the bad tracks and pass that to the validator."
      ]
    },
    {
      "cell_type": "code",
      "metadata": {
        "id": "_XZAIuuWdAr6",
        "colab_type": "code",
        "colab": {
          "base_uri": "https://localhost:8080/",
          "height": 71
        },
        "outputId": "48e0a4ee-f324-4b43-ad4c-3ede007589c5"
      },
      "source": [
        "from search_by_triplet_trie import search_by_triplet_trie\n",
        "tracks = search_by_triplet_trie().solve(event)\n",
        "\n",
        "print(len(tracks))\n",
        "print(tracks[0])"
      ],
      "execution_count": 55,
      "outputs": [
        {
          "output_type": "stream",
          "text": [
            "463\n",
            "Track hits #4: [#3261 id 52551389 module 50 {-2.782467, 12.678425, 749.468994}, #3152 id 50468051 module 48 {-0.215669, 10.889446, 699.468994}, #3044 id 48385223 module 46 {2.448358, 9.158798, 649.468994}, #2931 id 46302650 module 44 {5.170717, 7.447601, 599.468994}]\n"
          ],
          "name": "stdout"
        }
      ]
    },
    {
      "cell_type": "code",
      "metadata": {
        "id": "KEIB9O0CSm4b",
        "colab_type": "code",
        "colab": {
          "base_uri": "https://localhost:8080/",
          "height": 164
        },
        "outputId": "fbb32161-10a5-49d6-c46b-4798f24c825c"
      },
      "source": [
        "print(tr)"
      ],
      "execution_count": 65,
      "outputs": [
        {
          "output_type": "error",
          "ename": "TypeError",
          "evalue": "ignored",
          "traceback": [
            "\u001b[0;31m---------------------------------------------------------------------------\u001b[0m",
            "\u001b[0;31mTypeError\u001b[0m                                 Traceback (most recent call last)",
            "\u001b[0;32m<ipython-input-65-fb23b76e0543>\u001b[0m in \u001b[0;36m<module>\u001b[0;34m()\u001b[0m\n\u001b[0;32m----> 1\u001b[0;31m \u001b[0mint\u001b[0m\u001b[0;34m(\u001b[0m\u001b[0mtracks\u001b[0m\u001b[0;34m)\u001b[0m\u001b[0;34m\u001b[0m\u001b[0;34m\u001b[0m\u001b[0m\n\u001b[0m",
            "\u001b[0;31mTypeError\u001b[0m: int() argument must be a string, a bytes-like object or a number, not 'list'"
          ]
        }
      ]
    },
    {
      "cell_type": "code",
      "metadata": {
        "id": "nQsBuE09dvir",
        "colab_type": "code",
        "colab": {}
      },
      "source": [
        ""
      ],
      "execution_count": 0,
      "outputs": []
    }
  ]
}