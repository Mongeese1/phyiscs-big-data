{
  "nbformat": 4,
  "nbformat_minor": 0,
  "metadata": {
    "colab": {
      "name": "Copy of Untitled3.ipynb",
      "provenance": [],
      "collapsed_sections": [],
      "authorship_tag": "ABX9TyPYjnuMBmXYR8wb/l+sg45Q",
      "include_colab_link": true
    },
    "kernelspec": {
      "name": "python3",
      "display_name": "Python 3"
    }
  },
  "cells": [
    {
      "cell_type": "markdown",
      "metadata": {
        "id": "view-in-github",
        "colab_type": "text"
      },
      "source": [
        "<a href=\"https://colab.research.google.com/github/Mongeese1/phyiscs-big-data/blob/master/gravwaves.ipynb\" target=\"_parent\"><img src=\"https://colab.research.google.com/assets/colab-badge.svg\" alt=\"Open In Colab\"/></a>"
      ]
    },
    {
      "cell_type": "code",
      "metadata": {
        "id": "x0N1ANOIafvL",
        "colab_type": "code",
        "colab": {}
      },
      "source": [
        "import numpy as np\n",
        "import math as math\n",
        "import scipy.integrate as integrate\n",
        "import matplotlib.pyplot as plt\n",
        "import scipy as sp\n",
        "import scipy.special as special\n",
        "from scipy.misc import derivative\n",
        "import pandas as pd\n",
        "import sympy as sym\n",
        "from scipy.optimize import fmin\n",
        "e=math.e\n",
        "pi=math.pi"
      ],
      "execution_count": 0,
      "outputs": []
    },
    {
      "cell_type": "code",
      "metadata": {
        "id": "l3uixGtycyan",
        "colab_type": "code",
        "outputId": "7ab15d40-a176-432e-8b2c-a6879a523bf8",
        "colab": {
          "base_uri": "https://localhost:8080/",
          "height": 173
        }
      },
      "source": [
        "f = 1e-4\n",
        "G = 6.67*10**(-11)\n",
        "c = 3*10**8\n",
        "neg=1j\n",
        "# convert 10**30 kg to natural numbers\n",
        "m_one = 10**30/(c**2/G)\n",
        "# print(m_one)\n",
        "m_two = 15**30/(c**2/G)\n",
        "# convert 356 ly to natural numbers\n",
        "# A = 356*24*60*60\n",
        "# A = np.sqrt()\n",
        "M = m_one+m_two\n",
        "S_O = 6*10**(-49)\n",
        "f_s = 20\n",
        "f_0 = 70\n",
        "l = f/f_0\n",
        "t = 10\n",
        "phic = 100\n",
        "v=(pi*M*f)**(1/3)\n",
        "n = m_one*m_two/(M**2) \n",
        "p = [phic, t, M, n]\n",
        "low = 1\n",
        "high = 10\n",
        "# p = np.array(p)\n",
        "\n",
        "a = [1, 0, (20/9*(743/336 + n*11/4)), -16*pi, 10*(3058673/1016064 + n*5429/1008 + (n**2) * 617/144)]\n",
        "# a = np.array(a)\n",
        "# zum = []\n",
        "def Sum(z,a):\n",
        "  z *=2\n",
        "  j=0\n",
        "  for i in range(len(a)):\n",
        "    j += a[i]*(v**i)\n",
        "  return j\n",
        "\n",
        "def S(y,S_O):\n",
        "  S = S_O*(y**(-4.14)) - 5*(y**2) + (111*(1-y**2 + ((y**4)/2))/(1+(y**2)/2))\n",
        "  return S\n",
        "# \n",
        "zum = Sum(1,a)\n",
        "\n",
        "# psif = 2*pi * f * t - phic - pi/4 + (3/(128*n*(v**5)))*(zum)\n",
        "\n",
        "# waveform = A*(f**(-7/6))*(e**(neg*psif))\n",
        "\n",
        "def waveform1(f,phic,t,M,n,zum,v,A):\n",
        "  # phic, t, M, n = p\n",
        "  psif = 2*pi * f * t - phic - pi/4 + (3/(128*n*(v**5)))*(zum)\n",
        "  waveform = A*(f**(-7/6))*(e**(neg*psif))\n",
        "  return waveform\n",
        "  \n",
        "\n",
        "y = sym.symbols('y')\n",
        "indefa = sym.integrate((f**(-7/6))/S(f,S_O),y)\n",
        "\n",
        "defa = indefa.replace(y,high) - indefa.replace(y,low)\n",
        "\n",
        "defa = float(defa)\n",
        "A = np.sqrt(10 / 4 * defa)\n",
        "\n",
        "print(A)\n",
        "  \n",
        "# print(fora)\n",
        "# def deriv(x):\n",
        "# def deriv(x):\n",
        "#   phic, t, M , n = sym.symbols(\"phic t M n\")\n",
        "#   return sym.diff(waveform, phic)\n",
        "\n",
        "# phic, t, M , n = sym.symbols(\"phic t M n\", real=False)\n",
        "# sym.diff(waveform, t)\n",
        "\n",
        "def deriv(num,p,phic,t,M,n,zum,v):\n",
        "  if num == 0:\n",
        "    dphic = p[0]/1000\n",
        "    pphic = p.copy()\n",
        "    pphic[num] += dphic\n",
        "    dy = waveform1(f,dphic,t,M,n,zum,v,A) - waveform1(f,phic,t,M,n,zum,v,A)\n",
        "    return(dy/dphic)\n",
        "  if num == 1:\n",
        "    dt = p[1]/1000\n",
        "    pt = p.copy()\n",
        "    pt[num] += dt\n",
        "    dy = waveform1(f,dt,t,M,n,zum,v,A) - waveform1(f,phic,t,M,n,zum,v,A)\n",
        "    return(dy/dt)\n",
        "  if num == 2:\n",
        "    dM = p[2]/1000\n",
        "    pM = p.copy()\n",
        "    pM[num] += dM\n",
        "    dy = waveform1(f,dM,t,M,n,zum,v,A) - waveform1(f,phic,t,M,n,zum,v,A)\n",
        "    return(dy/dM)  \n",
        "  if num == 3:\n",
        "    dn = p[3]/1000\n",
        "    pn = p.copy()\n",
        "    pn[num] += dn\n",
        "    dy = waveform1(f,dn,t,M,n,zum,v,A) - waveform1(f,phic,t,M,n,zum,v,A)\n",
        "    return(dy/dn)\n",
        "  else:\n",
        "    print(\"Function accepts values of 0-3, where these values are which derivitave is being taken, 0=phic, 1=t, 2=M, 3=n\")\n",
        "    return\n",
        "# deriv(0,p,phic,t,M,n,zum,v)\n",
        "\n",
        "\n",
        "\n",
        "def create_fisher_matrix(increment,p,phic,t,M,n,zum,v,num,S_O):\n",
        "    fisher_matrix = []\n",
        "    for i in range(len(p)):\n",
        "        fisher_matrix.append([])\n",
        "        for j in range(len(p)):\n",
        "            integral = 0\n",
        "            for k in range(int(low*(1/increment)), int(high*(1/increment))):\n",
        "                integral += np.real(deriv(i,p,phic,t,M,n,zum,v)*deriv(j,p,phic,t,M,n,zum,v)/S(k*increment,S_O))\n",
        "            # print(integral)\n",
        "            fisher_matrix[-1].append(4 * integral)\n",
        "    return(fisher_matrix)\n",
        "\n",
        "for i in range(4):\n",
        "  matrix = create_fisher_matrix(0.01,p,phic,t,M,n,zum,v,i,S_O)\n",
        "print(matrix)\n",
        "\n",
        "\n",
        "\n",
        "inverse = np.linalg.inv(matrix)\n",
        "print(inverse)\n",
        "\n",
        "diag = np.sqrt(np.diag(inverse))\n",
        "# print(np.sqrt(diag))\n",
        "\n",
        "print(diag[3]/n)"
      ],
      "execution_count": 6,
      "outputs": [
        {
          "output_type": "stream",
          "text": [
            "96.99807296770113\n",
            "[[-1237013886664047.5, -1.3685646148139928e+16, 16644112123.256577, -2.640063301544157e+22], [-1.3685646148139928e+16, -1.4373544888780525e+17, 140558222146.61057, -2.7602611970046446e+23], [16644112123.256577, 140558222146.61057, 23540.73163518978, 2.6404748189227562e+17], [-2.640063301544157e+22, -2.7602611970046446e+23, 2.6404748189227562e+17, -5.298594095017238e+29]]\n",
            "[[-1.99975147e-01  6.03229318e-02  3.32769826e+03 -1.98025435e-08]\n",
            " [ 5.97636068e-02 -1.25293682e-02 -1.10100419e+03  3.00064210e-09]\n",
            " [ 3.33853232e+03 -1.11357979e+03 -5.34920680e+07  3.87108905e-04]\n",
            " [-1.95057685e-08  2.96650647e-09  3.81097561e-04 -3.83574923e-16]]\n",
            "nan\n"
          ],
          "name": "stdout"
        },
        {
          "output_type": "stream",
          "text": [
            "/usr/local/lib/python3.6/dist-packages/ipykernel_launcher.py:125: RuntimeWarning: invalid value encountered in sqrt\n"
          ],
          "name": "stderr"
        }
      ]
    },
    {
      "cell_type": "code",
      "metadata": {
        "id": "KsSQPBFYb3Uo",
        "colab_type": "code",
        "colab": {}
      },
      "source": [
        ""
      ],
      "execution_count": 0,
      "outputs": []
    }
  ]
}